{
  "nbformat": 4,
  "nbformat_minor": 0,
  "metadata": {
    "colab": {
      "name": "multihead-siamese-nets.ipynb",
      "version": "0.3.2",
      "provenance": [],
      "include_colab_link": true
    },
    "kernelspec": {
      "name": "python3",
      "display_name": "Python 3"
    }
  },
  "cells": [
    {
      "cell_type": "markdown",
      "metadata": {
        "id": "view-in-github",
        "colab_type": "text"
      },
      "source": [
        "<a href=\"https://colab.research.google.com/github/tlatkowski/multihead-siamese-nets/blob/master/colab/multihead_siamese_nets.ipynb\" target=\"_parent\"><img src=\"https://colab.research.google.com/assets/colab-badge.svg\" alt=\"Open In Colab\"/></a>"
      ]
    },
    {
      "metadata": {
        "id": "_bXt9MOlYcyu",
        "colab_type": "code",
        "colab": {
          "base_uri": "https://localhost:8080/",
          "height": 109
        },
        "outputId": "38275e07-e9a4-4ec1-cf5c-6bfeaef7ac39"
      },
      "cell_type": "code",
      "source": [
        "!git clone https://github.com/tlatkowski/multihead-siamese-nets.git"
      ],
      "execution_count": 1,
      "outputs": [
        {
          "output_type": "stream",
          "text": [
            "Cloning into 'multihead-siamese-nets'...\n",
            "remote: Enumerating objects: 540, done.\u001b[K\n",
            "remote: Total 540 (delta 0), reused 0 (delta 0), pack-reused 540\u001b[K\n",
            "Receiving objects: 100% (540/540), 979.16 KiB | 3.06 MiB/s, done.\n",
            "Resolving deltas: 100% (315/315), done.\n"
          ],
          "name": "stdout"
        }
      ]
    },
    {
      "metadata": {
        "id": "yKTs265pYoyX",
        "colab_type": "code",
        "colab": {
          "base_uri": "https://localhost:8080/",
          "height": 35
        },
        "outputId": "15f217e4-447c-4170-ca86-cdc8b82a5eda"
      },
      "cell_type": "code",
      "source": [
        "!ls"
      ],
      "execution_count": 2,
      "outputs": [
        {
          "output_type": "stream",
          "text": [
            "multihead-siamese-nets\tsample_data\n"
          ],
          "name": "stdout"
        }
      ]
    },
    {
      "metadata": {
        "id": "J2llm17NYxmT",
        "colab_type": "code",
        "colab": {
          "base_uri": "https://localhost:8080/",
          "height": 1029
        },
        "outputId": "dcaee43b-8aee-457f-fd84-97b7e794d095"
      },
      "cell_type": "code",
      "source": [
        "%%shell\n",
        "SNLI_ID=1wkAjMu-Pqnm1l-92M7UEp5YEtT1cFgVz\n",
        "QQP_TRAIN_ID=1dnck-CCIyx8y2xg1vwFzcwXieZJB7ERC\n",
        "QQP_TEST_ID=1XD-HxzUCTHrzhfvIXOlgqN_MWiiAqM8h\n",
        "\n",
        "SNLI_DATA=${SNLI_DATA:-https://drive.google.com/uc?export=download&id=${SNLI_ID}}\n",
        "QQP_DATA_TRAIN=${QQP_DATA_TRAIN:-https://drive.google.com/uc?export=download&id=${QQP_TRAIN_ID}}\n",
        "QQP_DATA_TEST=${QQP_DATA_TEST:-https://drive.google.com/uc?export=download&id=${QQP_TEST_ID}}\n",
        "\n",
        "SNLI_DIR=SNLI\n",
        "QQP_DIR=QQP\n",
        "CORPORA_DIR=corpora\n",
        "\n",
        "SNLI_FILE=train_snli.tgz\n",
        "QQP_FILE_TRAIN=qqp_train.tgz\n",
        "QQP_FILE_TEST=qqp_test.tgz\n",
        "\n",
        "mkdir -p multihead-siamese-nets/${CORPORA_DIR}/${SNLI_DIR}\n",
        "mkdir -p multihead-siamese-nets/${CORPORA_DIR}/${QQP_DIR}\n",
        "\n",
        "function google_drive_big_file_download () {\n",
        "  CONFIRM=$(wget --quiet --save-cookies /tmp/cookies.txt --keep-session-cookies --no-check-certificate \"https://docs.google.com/uc?export=download&id=$1\" -O- | sed -rn 's/.*confirm=([0-9A-Za-z_]+).*/\\1\\n/p')\n",
        "  wget --load-cookies /tmp/cookies.txt \"https://docs.google.com/uc?export=download&confirm=$CONFIRM&id=$1\" -O $2\n",
        "  rm -rf /tmp/cookies.txt\n",
        "}\n",
        "\n",
        "wget --no-check-certificate ${SNLI_DATA} -O multihead-siamese-nets/${CORPORA_DIR}/${SNLI_DIR}/${SNLI_FILE}\n",
        "wget --no-check-certificate ${QQP_DATA_TRAIN} -O multihead-siamese-nets/${CORPORA_DIR}/${QQP_DIR}/${QQP_FILE_TRAIN}\n",
        "google_drive_big_file_download ${QQP_TEST_ID} multihead-siamese-nets/${CORPORA_DIR}/${QQP_DIR}/${QQP_FILE_TEST}\n",
        "\n",
        "tar -xvzf multihead-siamese-nets/${CORPORA_DIR}/${SNLI_DIR}/${SNLI_FILE} -C multihead-siamese-nets/${CORPORA_DIR}/${SNLI_DIR}\n",
        "tar -xvzf multihead-siamese-nets/${CORPORA_DIR}/${QQP_DIR}/${QQP_FILE_TRAIN} -C multihead-siamese-nets/${CORPORA_DIR}/${QQP_DIR}\n",
        "tar -xvzf multihead-siamese-nets/${CORPORA_DIR}/${QQP_DIR}/${QQP_FILE_TEST} -C multihead-siamese-nets/${CORPORA_DIR}/${QQP_DIR}"
      ],
      "execution_count": 23,
      "outputs": [
        {
          "output_type": "stream",
          "text": [
            "--2019-04-11 08:26:33--  https://drive.google.com/uc?export=download&id=1wkAjMu-Pqnm1l-92M7UEp5YEtT1cFgVz\n",
            "Resolving drive.google.com (drive.google.com)... 74.125.20.113, 74.125.20.102, 74.125.20.138, ...\n",
            "Connecting to drive.google.com (drive.google.com)|74.125.20.113|:443... connected.\n",
            "HTTP request sent, awaiting response... 302 Moved Temporarily\n",
            "Location: https://doc-04-8o-docs.googleusercontent.com/docs/securesc/ha0ro937gcuc7l7deffksulhg5h7mbp1/rofbo17u60l68bsqu7qgg5hi3043ujc4/1554969600000/05563007606908372189/*/1wkAjMu-Pqnm1l-92M7UEp5YEtT1cFgVz?e=download [following]\n",
            "Warning: wildcards not supported in HTTP.\n",
            "--2019-04-11 08:26:33--  https://doc-04-8o-docs.googleusercontent.com/docs/securesc/ha0ro937gcuc7l7deffksulhg5h7mbp1/rofbo17u60l68bsqu7qgg5hi3043ujc4/1554969600000/05563007606908372189/*/1wkAjMu-Pqnm1l-92M7UEp5YEtT1cFgVz?e=download\n",
            "Resolving doc-04-8o-docs.googleusercontent.com (doc-04-8o-docs.googleusercontent.com)... 74.125.142.132, 2607:f8b0:400e:c08::84\n",
            "Connecting to doc-04-8o-docs.googleusercontent.com (doc-04-8o-docs.googleusercontent.com)|74.125.142.132|:443... connected.\n",
            "HTTP request sent, awaiting response... 200 OK\n",
            "Length: unspecified [application/x-compressed-tar]\n",
            "Saving to: ‘multihead-siamese-nets/corpora/SNLI/train_snli.tgz’\n",
            "\n",
            "\r          multihead     [<=>                 ]       0  --.-KB/s               \rmultihead-siamese-n     [ <=>                ]   7.38M  --.-KB/s    in 0.04s   \n",
            "\n",
            "2019-04-11 08:26:34 (183 MB/s) - ‘multihead-siamese-nets/corpora/SNLI/train_snli.tgz’ saved [7735242]\n",
            "\n",
            "--2019-04-11 08:26:34--  https://drive.google.com/uc?export=download&id=1dnck-CCIyx8y2xg1vwFzcwXieZJB7ERC\n",
            "Resolving drive.google.com (drive.google.com)... 74.125.20.138, 74.125.20.139, 74.125.20.102, ...\n",
            "Connecting to drive.google.com (drive.google.com)|74.125.20.138|:443... connected.\n",
            "HTTP request sent, awaiting response... 302 Moved Temporarily\n",
            "Location: https://doc-0o-8o-docs.googleusercontent.com/docs/securesc/ha0ro937gcuc7l7deffksulhg5h7mbp1/8qleqjh5b485v0fo0gkki5e27cruaq6p/1554969600000/05563007606908372189/*/1dnck-CCIyx8y2xg1vwFzcwXieZJB7ERC?e=download [following]\n",
            "Warning: wildcards not supported in HTTP.\n",
            "--2019-04-11 08:26:36--  https://doc-0o-8o-docs.googleusercontent.com/docs/securesc/ha0ro937gcuc7l7deffksulhg5h7mbp1/8qleqjh5b485v0fo0gkki5e27cruaq6p/1554969600000/05563007606908372189/*/1dnck-CCIyx8y2xg1vwFzcwXieZJB7ERC?e=download\n",
            "Resolving doc-0o-8o-docs.googleusercontent.com (doc-0o-8o-docs.googleusercontent.com)... 74.125.142.132, 2607:f8b0:400e:c08::84\n",
            "Connecting to doc-0o-8o-docs.googleusercontent.com (doc-0o-8o-docs.googleusercontent.com)|74.125.142.132|:443... connected.\n",
            "HTTP request sent, awaiting response... 200 OK\n",
            "Length: unspecified [application/x-gtar]\n",
            "Saving to: ‘multihead-siamese-nets/corpora/QQP/qqp_train.tgz’\n",
            "\n",
            "multihead-siamese-n     [ <=>                ]  21.15M  --.-KB/s    in 0.1s    \n",
            "\n",
            "2019-04-11 08:26:36 (179 MB/s) - ‘multihead-siamese-nets/corpora/QQP/qqp_train.tgz’ saved [22176174]\n",
            "\n",
            "--2019-04-11 08:26:36--  https://docs.google.com/uc?export=download&confirm=_pk5&id=1XD-HxzUCTHrzhfvIXOlgqN_MWiiAqM8h\n",
            "Resolving docs.google.com (docs.google.com)... 74.125.142.100, 74.125.142.102, 74.125.142.101, ...\n",
            "Connecting to docs.google.com (docs.google.com)|74.125.142.100|:443... connected.\n",
            "HTTP request sent, awaiting response... 302 Moved Temporarily\n",
            "Location: https://doc-0g-8o-docs.googleusercontent.com/docs/securesc/ha0ro937gcuc7l7deffksulhg5h7mbp1/jtnktpo67thfm5fn6cq9s4ru6p1qejed/1554969600000/05563007606908372189/*/1XD-HxzUCTHrzhfvIXOlgqN_MWiiAqM8h?e=download [following]\n",
            "Warning: wildcards not supported in HTTP.\n",
            "--2019-04-11 08:26:36--  https://doc-0g-8o-docs.googleusercontent.com/docs/securesc/ha0ro937gcuc7l7deffksulhg5h7mbp1/jtnktpo67thfm5fn6cq9s4ru6p1qejed/1554969600000/05563007606908372189/*/1XD-HxzUCTHrzhfvIXOlgqN_MWiiAqM8h?e=download\n",
            "Resolving doc-0g-8o-docs.googleusercontent.com (doc-0g-8o-docs.googleusercontent.com)... 74.125.142.132, 2607:f8b0:400e:c08::84\n",
            "Connecting to doc-0g-8o-docs.googleusercontent.com (doc-0g-8o-docs.googleusercontent.com)|74.125.142.132|:443... connected.\n",
            "HTTP request sent, awaiting response... 200 OK\n",
            "Length: unspecified [application/x-gtar]\n",
            "Saving to: ‘multihead-siamese-nets/corpora/QQP/qqp_test.tgz’\n",
            "\n",
            "multihead-siamese-n     [    <=>             ] 112.33M   176MB/s    in 0.6s    \n",
            "\n",
            "2019-04-11 08:26:37 (176 MB/s) - ‘multihead-siamese-nets/corpora/QQP/qqp_test.tgz’ saved [117792766]\n",
            "\n",
            "train_snli.txt\n",
            "train.csv\n",
            "test.csv\n"
          ],
          "name": "stdout"
        },
        {
          "output_type": "execute_result",
          "data": {
            "text/plain": [
              ""
            ]
          },
          "metadata": {
            "tags": []
          },
          "execution_count": 23
        }
      ]
    },
    {
      "metadata": {
        "id": "9aJlYocoZEA0",
        "colab_type": "code",
        "colab": {
          "base_uri": "https://localhost:8080/",
          "height": 293
        },
        "outputId": "c283eb33-9a52-4c32-c392-d75ad06f3430"
      },
      "cell_type": "code",
      "source": [
        "!ls -l multihead-siamese-nets"
      ],
      "execution_count": 21,
      "outputs": [
        {
          "output_type": "stream",
          "text": [
            "total 64\n",
            "drwxr-xr-x 2 root root 4096 Apr 11 07:53 bin\n",
            "drwxr-xr-x 3 root root 4096 Apr 11 07:53 config\n",
            "drwxr-xr-x 4 root root 4096 Apr 11 08:09 corpora\n",
            "drwxr-xr-x 2 root root 4096 Apr 11 07:53 data\n",
            "drwxr-xr-x 2 root root 4096 Apr 11 07:53 debug\n",
            "drwxr-xr-x 2 root root 4096 Apr 11 07:53 layers\n",
            "-rw-r--r-- 1 root root 1073 Apr 11 07:53 LICENSE\n",
            "drwxr-xr-x 2 root root 4096 Apr 11 07:53 models\n",
            "drwxr-xr-x 2 root root 4096 Apr 11 07:53 pics\n",
            "-rw-r--r-- 1 root root 5917 Apr 11 07:53 README.md\n",
            "drwxr-xr-x 2 root root 4096 Apr 11 07:53 requirements\n",
            "-rw-r--r-- 1 root root 7238 Apr 11 07:53 run.py\n",
            "drwxr-xr-x 2 root root 4096 Apr 11 07:53 tests\n",
            "drwxr-xr-x 2 root root 4096 Apr 11 07:53 utils\n"
          ],
          "name": "stdout"
        }
      ]
    },
    {
      "metadata": {
        "id": "JinbPpl9ZdTE",
        "colab_type": "code",
        "colab": {
          "base_uri": "https://localhost:8080/",
          "height": 1139
        },
        "outputId": "1dcb9763-f7eb-4f4b-a089-0c6a191dd134"
      },
      "cell_type": "code",
      "source": [
        "pip install -r multihead-siamese-nets/requirements/requirements-gpu.txt"
      ],
      "execution_count": 25,
      "outputs": [
        {
          "output_type": "stream",
          "text": [
            "Collecting tqdm==4.15.0 (from -r multihead-siamese-nets/requirements/requirements-gpu.txt (line 1))\n",
            "\u001b[?25l  Downloading https://files.pythonhosted.org/packages/4b/8c/f578581f1ea3e65af88a0c30c3d09d264b01acf585c1e6dcde022fbc664b/tqdm-4.15.0-py2.py3-none-any.whl (46kB)\n",
            "\u001b[K    100% |████████████████████████████████| 51kB 3.5MB/s \n",
            "\u001b[?25hRequirement already satisfied: pandas==0.22.0 in /usr/local/lib/python3.6/dist-packages (from -r multihead-siamese-nets/requirements/requirements-gpu.txt (line 2)) (0.22.0)\n",
            "Requirement already satisfied: tflearn==0.3.2 in /usr/local/lib/python3.6/dist-packages (from -r multihead-siamese-nets/requirements/requirements-gpu.txt (line 3)) (0.3.2)\n",
            "Collecting numpy==1.14.2 (from -r multihead-siamese-nets/requirements/requirements-gpu.txt (line 4))\n",
            "\u001b[?25l  Downloading https://files.pythonhosted.org/packages/6e/dc/92c0f670e7b986829fc92c4c0208edb9d72908149da38ecda50d816ea057/numpy-1.14.2-cp36-cp36m-manylinux1_x86_64.whl (12.2MB)\n",
            "\u001b[K    100% |████████████████████████████████| 12.2MB 2.9MB/s \n",
            "\u001b[?25hCollecting tensorflow-gpu==1.5.0 (from -r multihead-siamese-nets/requirements/requirements-gpu.txt (line 5))\n",
            "\u001b[?25l  Downloading https://files.pythonhosted.org/packages/d5/8b/094add4d2d667ddfef867285e2c16ac4fee6a1d51cece87d6d490b6e5571/tensorflow_gpu-1.5.0-cp36-cp36m-manylinux1_x86_64.whl (201.9MB)\n",
            "\u001b[K    100% |████████████████████████████████| 201.9MB 120kB/s \n",
            "\u001b[?25hRequirement already satisfied: pytz>=2011k in /usr/local/lib/python3.6/dist-packages (from pandas==0.22.0->-r multihead-siamese-nets/requirements/requirements-gpu.txt (line 2)) (2018.9)\n",
            "Requirement already satisfied: python-dateutil>=2 in /usr/local/lib/python3.6/dist-packages (from pandas==0.22.0->-r multihead-siamese-nets/requirements/requirements-gpu.txt (line 2)) (2.5.3)\n",
            "Requirement already satisfied: six in /usr/local/lib/python3.6/dist-packages (from tflearn==0.3.2->-r multihead-siamese-nets/requirements/requirements-gpu.txt (line 3)) (1.11.0)\n",
            "Requirement already satisfied: Pillow in /usr/local/lib/python3.6/dist-packages (from tflearn==0.3.2->-r multihead-siamese-nets/requirements/requirements-gpu.txt (line 3)) (4.1.1)\n",
            "Requirement already satisfied: protobuf>=3.4.0 in /usr/local/lib/python3.6/dist-packages (from tensorflow-gpu==1.5.0->-r multihead-siamese-nets/requirements/requirements-gpu.txt (line 5)) (3.7.1)\n",
            "Requirement already satisfied: absl-py>=0.1.6 in /usr/local/lib/python3.6/dist-packages (from tensorflow-gpu==1.5.0->-r multihead-siamese-nets/requirements/requirements-gpu.txt (line 5)) (0.7.1)\n",
            "Requirement already satisfied: wheel>=0.26 in /usr/local/lib/python3.6/dist-packages (from tensorflow-gpu==1.5.0->-r multihead-siamese-nets/requirements/requirements-gpu.txt (line 5)) (0.33.1)\n",
            "Collecting tensorflow-tensorboard<1.6.0,>=1.5.0 (from tensorflow-gpu==1.5.0->-r multihead-siamese-nets/requirements/requirements-gpu.txt (line 5))\n",
            "\u001b[?25l  Downloading https://files.pythonhosted.org/packages/cc/fa/91c06952517b4f1bc075545b062a4112e30cebe558a6b962816cb33efa27/tensorflow_tensorboard-1.5.1-py3-none-any.whl (3.0MB)\n",
            "\u001b[K    100% |████████████████████████████████| 3.0MB 4.8MB/s \n",
            "\u001b[?25hRequirement already satisfied: olefile in /usr/local/lib/python3.6/dist-packages (from Pillow->tflearn==0.3.2->-r multihead-siamese-nets/requirements/requirements-gpu.txt (line 3)) (0.46)\n",
            "Requirement already satisfied: setuptools in /usr/local/lib/python3.6/dist-packages (from protobuf>=3.4.0->tensorflow-gpu==1.5.0->-r multihead-siamese-nets/requirements/requirements-gpu.txt (line 5)) (40.9.0)\n",
            "Collecting bleach==1.5.0 (from tensorflow-tensorboard<1.6.0,>=1.5.0->tensorflow-gpu==1.5.0->-r multihead-siamese-nets/requirements/requirements-gpu.txt (line 5))\n",
            "  Downloading https://files.pythonhosted.org/packages/33/70/86c5fec937ea4964184d4d6c4f0b9551564f821e1c3575907639036d9b90/bleach-1.5.0-py2.py3-none-any.whl\n",
            "Requirement already satisfied: werkzeug>=0.11.10 in /usr/local/lib/python3.6/dist-packages (from tensorflow-tensorboard<1.6.0,>=1.5.0->tensorflow-gpu==1.5.0->-r multihead-siamese-nets/requirements/requirements-gpu.txt (line 5)) (0.15.2)\n",
            "Collecting html5lib==0.9999999 (from tensorflow-tensorboard<1.6.0,>=1.5.0->tensorflow-gpu==1.5.0->-r multihead-siamese-nets/requirements/requirements-gpu.txt (line 5))\n",
            "\u001b[?25l  Downloading https://files.pythonhosted.org/packages/ae/ae/bcb60402c60932b32dfaf19bb53870b29eda2cd17551ba5639219fb5ebf9/html5lib-0.9999999.tar.gz (889kB)\n",
            "\u001b[K    100% |████████████████████████████████| 890kB 7.8MB/s \n",
            "\u001b[?25hRequirement already satisfied: markdown>=2.6.8 in /usr/local/lib/python3.6/dist-packages (from tensorflow-tensorboard<1.6.0,>=1.5.0->tensorflow-gpu==1.5.0->-r multihead-siamese-nets/requirements/requirements-gpu.txt (line 5)) (3.1)\n",
            "Building wheels for collected packages: html5lib\n",
            "  Building wheel for html5lib (setup.py) ... \u001b[?25ldone\n",
            "\u001b[?25h  Stored in directory: /root/.cache/pip/wheels/50/ae/f9/d2b189788efcf61d1ee0e36045476735c838898eef1cad6e29\n",
            "Successfully built html5lib\n",
            "\u001b[31mspacy 2.0.18 has requirement numpy>=1.15.0, but you'll have numpy 1.14.2 which is incompatible.\u001b[0m\n",
            "\u001b[31mimgaug 0.2.8 has requirement numpy>=1.15.0, but you'll have numpy 1.14.2 which is incompatible.\u001b[0m\n",
            "\u001b[31mfeaturetools 0.4.1 has requirement pandas>=0.23.0, but you'll have pandas 0.22.0 which is incompatible.\u001b[0m\n",
            "\u001b[31mfeaturetools 0.4.1 has requirement tqdm>=4.19.2, but you'll have tqdm 4.15.0 which is incompatible.\u001b[0m\n",
            "\u001b[31mfastai 1.0.51 has requirement numpy>=1.15, but you'll have numpy 1.14.2 which is incompatible.\u001b[0m\n",
            "\u001b[31mdatascience 0.10.6 has requirement folium==0.2.1, but you'll have folium 0.8.3 which is incompatible.\u001b[0m\n",
            "\u001b[31malbumentations 0.1.12 has requirement imgaug<0.2.7,>=0.2.5, but you'll have imgaug 0.2.8 which is incompatible.\u001b[0m\n",
            "Installing collected packages: tqdm, numpy, html5lib, bleach, tensorflow-tensorboard, tensorflow-gpu\n",
            "  Found existing installation: tqdm 4.28.1\n",
            "    Uninstalling tqdm-4.28.1:\n",
            "      Successfully uninstalled tqdm-4.28.1\n",
            "  Found existing installation: numpy 1.14.6\n",
            "    Uninstalling numpy-1.14.6:\n",
            "      Successfully uninstalled numpy-1.14.6\n",
            "  Found existing installation: html5lib 1.0.1\n",
            "    Uninstalling html5lib-1.0.1:\n",
            "      Successfully uninstalled html5lib-1.0.1\n",
            "  Found existing installation: bleach 3.1.0\n",
            "    Uninstalling bleach-3.1.0:\n",
            "      Successfully uninstalled bleach-3.1.0\n",
            "Successfully installed bleach-1.5.0 html5lib-0.9999999 numpy-1.14.2 tensorflow-gpu-1.5.0 tensorflow-tensorboard-1.5.1 tqdm-4.15.0\n"
          ],
          "name": "stdout"
        },
        {
          "output_type": "display_data",
          "data": {
            "application/vnd.colab-display-data+json": {
              "pip_warning": {
                "packages": [
                  "numpy"
                ]
              }
            }
          },
          "metadata": {
            "tags": []
          }
        }
      ]
    },
    {
      "metadata": {
        "id": "-d1OX3EebRtA",
        "colab_type": "code",
        "colab": {}
      },
      "cell_type": "code",
      "source": [
        "python3 run.py train cnn SNLI"
      ],
      "execution_count": 0,
      "outputs": []
    }
  ]
}